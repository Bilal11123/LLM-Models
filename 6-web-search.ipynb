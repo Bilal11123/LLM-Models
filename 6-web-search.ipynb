{
 "cells": [
  {
   "cell_type": "markdown",
   "id": "8d6fbdd1",
   "metadata": {},
   "source": [
    "### Topic - Web Search\n"
   ]
  },
  {
   "cell_type": "code",
   "execution_count": 1,
   "id": "b43be04f",
   "metadata": {},
   "outputs": [],
   "source": [
    "from openai import OpenAI\n",
    "\n",
    "client = OpenAI()"
   ]
  },
  {
   "cell_type": "markdown",
   "id": "ead9650b",
   "metadata": {},
   "source": [
    "#### Basic web search"
   ]
  },
  {
   "cell_type": "code",
   "execution_count": 2,
   "id": "f95496c8",
   "metadata": {},
   "outputs": [],
   "source": [
    "response = client.responses.create(\n",
    "    model=\"gpt-4o\",\n",
    "    tools=[\n",
    "        {\n",
    "            \"type\": \"web_search_preview\",\n",
    "        }\n",
    "    ],\n",
    "    input=\"What are the best restaurants around de Dam?\",\n",
    ")"
   ]
  },
  {
   "cell_type": "code",
   "execution_count": 3,
   "id": "347f616e",
   "metadata": {},
   "outputs": [
    {
     "data": {
      "text/plain": [
       "\"De Dam, or Dam Square, is a central hub in Amsterdam, surrounded by a variety of dining options. Here are some notable restaurants in the vicinity:\\n\\n**[Bougainville](http://www.restaurantbougainville.com)**  \\n**Closed · French · $$$ · 4.1 (18 reviews)**  \\n_Dam 27, 1012 KK Amsterdam_  \\nLocated within Hotel TwentySeven, this restaurant offers a luxurious dining experience with French and international cuisine.\\n\\n**[The White Room](https://www.anantara.com/en/grand-hotel-krasnapolsky-amsterdam/restaurants)**  \\n**Closed · French · $$$ · 4.0 (26 reviews)**  \\n_Dam 9, Amsterdam_  \\nSituated in the NH Collection Grand Hotel Krasnapolsky, it serves contemporary European dishes in an elegant setting.\\n\\n**Rob Wigboldus Vishandel**  \\n**Closed · Snacks · $ · 4.3 (62 reviews)**  \\n_Zoutsteeg 6, 1012 LX Amsterdam_  \\nA local favorite known for its fresh Dutch seafood, including herring and other traditional fish dishes.\\n\\n**[Melly's Cookies Bar](http://www.mellyscookiebar.nl/)**  \\n**Closed · ££ · 4.7 (637 reviews)**  \\n_Nieuwezijds Voorburgwal 137, 1012 RJ Amsterdam, Netherlands_  \\nA cozy café offering a variety of cookies, pastries, and coffee, perfect for a sweet treat.\\n\\n**[FuLu Mandarijn](https://fulumandarijn.com)**  \\n**Closed · Chinese · $$ · 4.3 (250 reviews)**  \\n_Rokin 26, 1012 KS Amsterdam_  \\nRenowned for its authentic Chinese cuisine, this restaurant provides a diverse menu in a vibrant atmosphere.\\n\\n**[The Tailor](http://www.barthetailor.com)**  \\n**Closed · Lounge · $$$ · 3.8 (45 reviews)**  \\n_Dam 9, Amsterdam_  \\nAn upscale bar offering a wide selection of cocktails and light bites, ideal for an evening out.\\n\\n**[Hasta La Pasta](http://www.hastalapasta-amsterdam.nl)**  \\n**Closed · Italian · $$ · 3.4 (38 reviews)**  \\n_Zoutsteeg 7 (Damrak), 1012 LX Amsterdam_  \\nA charming spot serving a variety of Italian pasta dishes, praised for its authentic flavors.\\n\\n**[De Engelbewaarder](http://cafe-de-engelbewaarder.nl)**  \\n**Closed · Pub · $$ · 4.5 (284 reviews)**  \\n_Kloveniersburgwal 59, 1011 JZ Amsterdam_  \\nA traditional Dutch 'brown café' known for its cozy ambiance and jazz performances on Sundays.\\n\\n**[Toscanini](http://restauranttoscanini.nl)**  \\n**Closed · Italian · $$ · 4.4 (283 reviews)**  \\n_Lindengracht 75, 1015 KD Amsterdam_  \\nAn Italian restaurant with a longstanding reputation, offering classic dishes in a warm setting.\\n\\n**[Brothers Hartering](https://www.gebr-hartering.nl/)**  \\n**Closed · €100+ · 4.6 (513 reviews)**  \\n_Peperstraat 10, 1011 TX Amsterdam, Netherlands_  \\nSpecializes in meat dishes, making it a great choice for a date night with its intimate atmosphere.\\n\\nThese establishments offer a range of culinary experiences, from fine dining to casual cafés, all within walking distance of De Dam. \""
      ]
     },
     "execution_count": 3,
     "metadata": {},
     "output_type": "execute_result"
    }
   ],
   "source": [
    "response.output_text"
   ]
  },
  {
   "cell_type": "code",
   "execution_count": 4,
   "id": "cf2d9766",
   "metadata": {},
   "outputs": [
    {
     "data": {
      "text/markdown": [
       "De Dam, or Dam Square, is a central hub in Amsterdam, surrounded by a variety of dining options. Here are some notable restaurants in the vicinity:\n",
       "\n",
       "**[Bougainville](http://www.restaurantbougainville.com)**  \n",
       "**Closed · French · $$$ · 4.1 (18 reviews)**  \n",
       "_Dam 27, 1012 KK Amsterdam_  \n",
       "Located within Hotel TwentySeven, this restaurant offers a luxurious dining experience with French and international cuisine.\n",
       "\n",
       "**[The White Room](https://www.anantara.com/en/grand-hotel-krasnapolsky-amsterdam/restaurants)**  \n",
       "**Closed · French · $$$ · 4.0 (26 reviews)**  \n",
       "_Dam 9, Amsterdam_  \n",
       "Situated in the NH Collection Grand Hotel Krasnapolsky, it serves contemporary European dishes in an elegant setting.\n",
       "\n",
       "**Rob Wigboldus Vishandel**  \n",
       "**Closed · Snacks · $ · 4.3 (62 reviews)**  \n",
       "_Zoutsteeg 6, 1012 LX Amsterdam_  \n",
       "A local favorite known for its fresh Dutch seafood, including herring and other traditional fish dishes.\n",
       "\n",
       "**[Melly's Cookies Bar](http://www.mellyscookiebar.nl/)**  \n",
       "**Closed · ££ · 4.7 (637 reviews)**  \n",
       "_Nieuwezijds Voorburgwal 137, 1012 RJ Amsterdam, Netherlands_  \n",
       "A cozy café offering a variety of cookies, pastries, and coffee, perfect for a sweet treat.\n",
       "\n",
       "**[FuLu Mandarijn](https://fulumandarijn.com)**  \n",
       "**Closed · Chinese · $$ · 4.3 (250 reviews)**  \n",
       "_Rokin 26, 1012 KS Amsterdam_  \n",
       "Renowned for its authentic Chinese cuisine, this restaurant provides a diverse menu in a vibrant atmosphere.\n",
       "\n",
       "**[The Tailor](http://www.barthetailor.com)**  \n",
       "**Closed · Lounge · $$$ · 3.8 (45 reviews)**  \n",
       "_Dam 9, Amsterdam_  \n",
       "An upscale bar offering a wide selection of cocktails and light bites, ideal for an evening out.\n",
       "\n",
       "**[Hasta La Pasta](http://www.hastalapasta-amsterdam.nl)**  \n",
       "**Closed · Italian · $$ · 3.4 (38 reviews)**  \n",
       "_Zoutsteeg 7 (Damrak), 1012 LX Amsterdam_  \n",
       "A charming spot serving a variety of Italian pasta dishes, praised for its authentic flavors.\n",
       "\n",
       "**[De Engelbewaarder](http://cafe-de-engelbewaarder.nl)**  \n",
       "**Closed · Pub · $$ · 4.5 (284 reviews)**  \n",
       "_Kloveniersburgwal 59, 1011 JZ Amsterdam_  \n",
       "A traditional Dutch 'brown café' known for its cozy ambiance and jazz performances on Sundays.\n",
       "\n",
       "**[Toscanini](http://restauranttoscanini.nl)**  \n",
       "**Closed · Italian · $$ · 4.4 (283 reviews)**  \n",
       "_Lindengracht 75, 1015 KD Amsterdam_  \n",
       "An Italian restaurant with a longstanding reputation, offering classic dishes in a warm setting.\n",
       "\n",
       "**[Brothers Hartering](https://www.gebr-hartering.nl/)**  \n",
       "**Closed · €100+ · 4.6 (513 reviews)**  \n",
       "_Peperstraat 10, 1011 TX Amsterdam, Netherlands_  \n",
       "Specializes in meat dishes, making it a great choice for a date night with its intimate atmosphere.\n",
       "\n",
       "These establishments offer a range of culinary experiences, from fine dining to casual cafés, all within walking distance of De Dam. "
      ],
      "text/plain": [
       "<IPython.core.display.Markdown object>"
      ]
     },
     "metadata": {},
     "output_type": "display_data"
    }
   ],
   "source": [
    "from IPython.display import Markdown, display\n",
    "\n",
    "# Display the response output text in a markdown format for better readability\n",
    "display(Markdown(response.output_text))"
   ]
  },
  {
   "cell_type": "markdown",
   "id": "b603cd14",
   "metadata": {},
   "source": [
    "#### Basic web search with location"
   ]
  },
  {
   "cell_type": "code",
   "execution_count": 26,
   "id": "d8ae323d",
   "metadata": {},
   "outputs": [],
   "source": [
    "response = client.responses.create(\n",
    "    model=\"gpt-4o\",\n",
    "    tools=[\n",
    "        {\n",
    "            \"type\": \"web_search_preview\",\n",
    "            \"user_location\": {\n",
    "                \"type\": \"approximate\",\n",
    "                \"country\": \"PK\",\n",
    "                \"city\": \"Islamabad\",\n",
    "            },\n",
    "        }\n",
    "    ],\n",
    "    input=\"What are the best restaurants around COMSATS University Islamabad?\",\n",
    ")"
   ]
  },
  {
   "cell_type": "code",
   "execution_count": 30,
   "id": "57bc787f",
   "metadata": {},
   "outputs": [
    {
     "data": {
      "text/markdown": [
       "If you're looking for dining options near COMSATS University Islamabad, here are some notable restaurants in the vicinity:\n",
       "\n",
       "**Quetta Student Cafe**  \n",
       "**Closed · 4.0 (6 reviews)**  \n",
       "_M555+85Q, Commerical Market Rd, Meherban Colony Chatta Bakhtawar, Islamabad, Pakistan_  \n",
       "Located within the university campus, this food-street style cafeteria offers a variety of snacks and meals at modest prices, providing a convenient option for students and visitors.\n",
       "\n",
       "**[TKR 3](https://tahirkhanrestaurants.com/)**  \n",
       "**Open now · $$ · 4.7 (25288 reviews)**  \n",
       "_Shakarparian Rd, Islamabad, Pakistan_  \n",
       "Situated approximately 1.1 km from the university on Lehtarar Road, TKR offers a diverse menu including bar, café, Asian, pub, Pakistani, Afghan, and Middle Eastern cuisines.\n",
       "\n",
       "**[Homemade Cuisine Gluten Free - Islamabad](http://www.homemadecuisine.biz/)**  \n",
       "**Open now · 4.7 (109 reviews)**  \n",
       "_Shop No.5, Luxus Mall & Residency, Gulberg Greens Gulberg Greens Block B Gulberg Greens, Islamabad, 44600, Pakistan_  \n",
       "Located about 5.5 km from the university at Shop No.5 Luxus Mall & Residency, Gulberg Greens, this café and deli offers a variety of fast food options.\n",
       "\n",
       "**Dawat**  \n",
       "**Closed · Restaurant**  \n",
       "_Serena Hotel, اسلام آباد_  \n",
       "Approximately 8.7 km from the university at Khayaban-e-Suharwardy, Islamabad Serena Hotel, G-5/1, Dawat specializes in Pakistani and Indian cuisines.\n",
       "\n",
       "**The Carnivore**  \n",
       "**Closed · Steakhouse · $$$$**  \n",
       "_اسلام آباد_  \n",
       "Located 11.4 km from the university at Block-07, F-6 Markaz Roomy Hotel Super Market, The Carnivore serves Turkish, healthy, Pakistani, and Arabic cuisines.\n",
       "\n",
       "These establishments offer a range of cuisines and dining experiences to suit various preferences. "
      ],
      "text/plain": [
       "<IPython.core.display.Markdown object>"
      ]
     },
     "metadata": {},
     "output_type": "display_data"
    }
   ],
   "source": [
    "display(Markdown(response.output_text))"
   ]
  },
  {
   "cell_type": "code",
   "execution_count": 31,
   "id": "77d9adbc",
   "metadata": {},
   "outputs": [
    {
     "data": {
      "text/plain": [
       "[AnnotationURLCitation(end_index=499, start_index=457, title='TKR 3', type='url_citation', url='https://tahirkhanrestaurants.com/'),\n",
       " AnnotationURLCitation(end_index=840, start_index=765, title='Homemade Cuisine Gluten Free - Islamabad', type='url_citation', url='http://www.homemadecuisine.biz/')]"
      ]
     },
     "execution_count": 31,
     "metadata": {},
     "output_type": "execute_result"
    }
   ],
   "source": [
    "response.output[1].content[0].annotations"
   ]
  },
  {
   "cell_type": "code",
   "execution_count": 32,
   "id": "47c12c13",
   "metadata": {},
   "outputs": [
    {
     "data": {
      "text/plain": [
       "'https://tahirkhanrestaurants.com/'"
      ]
     },
     "execution_count": 32,
     "metadata": {},
     "output_type": "execute_result"
    }
   ],
   "source": [
    "response.output[1].content[0].annotations[0].url"
   ]
  },
  {
   "cell_type": "code",
   "execution_count": null,
   "id": "b6406820",
   "metadata": {},
   "outputs": [],
   "source": []
  }
 ],
 "metadata": {
  "kernelspec": {
   "display_name": ".venv",
   "language": "python",
   "name": "python3"
  },
  "language_info": {
   "codemirror_mode": {
    "name": "ipython",
    "version": 3
   },
   "file_extension": ".py",
   "mimetype": "text/x-python",
   "name": "python",
   "nbconvert_exporter": "python",
   "pygments_lexer": "ipython3",
   "version": "3.11.0"
  }
 },
 "nbformat": 4,
 "nbformat_minor": 5
}
