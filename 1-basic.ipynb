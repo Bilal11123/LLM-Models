{
 "cells": [
  {
   "cell_type": "markdown",
   "id": "a4cca3dd",
   "metadata": {},
   "source": [
    "### Topic - Direct API call\n",
    "##### Learn how to make your first API request"
   ]
  },
  {
   "cell_type": "code",
   "execution_count": 1,
   "id": "ac039477",
   "metadata": {},
   "outputs": [],
   "source": [
    "import os\n",
    "from openai import OpenAI"
   ]
  },
  {
   "cell_type": "code",
   "execution_count": 2,
   "id": "0dbba967",
   "metadata": {},
   "outputs": [],
   "source": [
    "client = OpenAI(api_key=os.getenv(\"OPENAI_API_KEY\"))"
   ]
  },
  {
   "cell_type": "markdown",
   "id": "c6c1f80f",
   "metadata": {},
   "source": [
    "## 🧠 System Prompt\n",
    "\n",
    "**System Prompt**: It describes how the system should behave and what it should do.\n",
    "\n",
    "- **System Prompt** sets the behavior, tone, and role of the AI before any user input is processed.  \n",
    "- It helps guide the model's responses to stay aligned with a specific purpose or personality (e.g., teacher, assistant, coder).\n",
    "\n",
    "### 📝 Example Prompts\n",
    "\n",
    "1. **Customer Support Bot:**  You are a helpful and polite support agent who answers customer questions clearly and professionally.\n",
    "2. **Coding Assistant:** You are a coding assistant who provides clear and concise code examples in Python. Always include comments to explain the code.\n",
    "3. **Creative Writer:** You are a creative writer who crafts engaging and imaginative stories. Use vivid descriptions and unique characters."
   ]
  },
  {
   "cell_type": "code",
   "execution_count": null,
   "id": "7f5bedf2",
   "metadata": {},
   "outputs": [],
   "source": [
    "completion = client.chat.completions.create(\n",
    "    model=\"gpt-4o\",\n",
    "    messages=[\n",
    "        {\"role\": \"system\", \"content\": \"You're a helpful assistant.\"},\n",
    "        {\n",
    "            \"role\": \"user\",\n",
    "            \"content\": \"Write a limerick about the Python programming language.\",\n",
    "        },\n",
    "    ],\n",
    ")\n",
    "\n",
    "\n"
   ]
  },
  {
   "cell_type": "code",
   "execution_count": 16,
   "id": "4660cd29",
   "metadata": {},
   "outputs": [
    {
     "data": {
      "text/plain": [
       "'{\"finish_reason\":\"stop\",\"index\":0,\"logprobs\":null,\"message\":{\"content\":\"In a code world where logic can dance,  \\\\nPython gives coders a chance.  \\\\nWith its syntax so clean,  \\\\nAnd its power unseen,  \\\\nIt lets creativity enhance.\",\"refusal\":null,\"role\":\"assistant\",\"annotations\":[],\"audio\":null,\"function_call\":null,\"tool_calls\":null}}'"
      ]
     },
     "execution_count": 16,
     "metadata": {},
     "output_type": "execute_result"
    }
   ],
   "source": [
    "completion.choices[0].model_dump_json()"
   ]
  },
  {
   "cell_type": "code",
   "execution_count": 17,
   "id": "616dc39c",
   "metadata": {},
   "outputs": [],
   "source": [
    "response = completion.choices[0].message.content"
   ]
  },
  {
   "cell_type": "code",
   "execution_count": 18,
   "id": "814ccb1b",
   "metadata": {},
   "outputs": [
    {
     "data": {
      "text/plain": [
       "'In a code world where logic can dance,  \\nPython gives coders a chance.  \\nWith its syntax so clean,  \\nAnd its power unseen,  \\nIt lets creativity enhance.'"
      ]
     },
     "execution_count": 18,
     "metadata": {},
     "output_type": "execute_result"
    }
   ],
   "source": [
    "response"
   ]
  },
  {
   "cell_type": "code",
   "execution_count": 19,
   "id": "6b22819e",
   "metadata": {},
   "outputs": [
    {
     "name": "stdout",
     "output_type": "stream",
     "text": [
      "In a code world where logic can dance,\n",
      "Python gives coders a chance.\n",
      "With its syntax so clean,\n",
      "And its power unseen,\n",
      "It lets creativity enhance.\n"
     ]
    }
   ],
   "source": [
    "print(response.replace(\"  \\n\", \"\\n\"))"
   ]
  },
  {
   "cell_type": "markdown",
   "id": "07cb5d92",
   "metadata": {},
   "source": [
    "> 📖 More details on the [OpenAI Developer quickstart](https://platform.openai.com/docs/quickstart?api-mode=responses)"
   ]
  },
  {
   "cell_type": "markdown",
   "id": "f155a7e9",
   "metadata": {},
   "source": [
    "**Usecase:** This could be part of an agent or AI system that you are building. For example, when someone sends you an email, you can use the system prompt to determine how to respond via an email."
   ]
  },
  {
   "cell_type": "markdown",
   "id": "55ceb848",
   "metadata": {},
   "source": [
    "### Using Responses API"
   ]
  },
  {
   "cell_type": "markdown",
   "id": "bb5c0887",
   "metadata": {},
   "source": [
    "#### Basic text example"
   ]
  },
  {
   "cell_type": "code",
   "execution_count": 20,
   "id": "4813d8f1",
   "metadata": {},
   "outputs": [],
   "source": [
    "response = client.responses.create(\n",
    "    model=\"gpt-4o\", input=\"Write a limerick about the Python programming language.\"\n",
    ")"
   ]
  },
  {
   "cell_type": "code",
   "execution_count": 23,
   "id": "5dbb58e7",
   "metadata": {},
   "outputs": [
    {
     "data": {
      "text/plain": [
       "\"In Python, the code's neat and clean,  \\nWith syntax so clear, it’s serene.  \\nLoops and lists are a breeze,  \\nWith functions, you seize,  \\nA language where techies convene!\""
      ]
     },
     "execution_count": 23,
     "metadata": {},
     "output_type": "execute_result"
    }
   ],
   "source": [
    "response.output_text"
   ]
  },
  {
   "cell_type": "code",
   "execution_count": 24,
   "id": "3e3c001c",
   "metadata": {},
   "outputs": [
    {
     "name": "stdout",
     "output_type": "stream",
     "text": [
      "In Python, the code's neat and clean,\n",
      "With syntax so clear, it’s serene.\n",
      "Loops and lists are a breeze,\n",
      "With functions, you seize,\n",
      "A language where techies convene!\n"
     ]
    }
   ],
   "source": [
    "print(response.output_text.replace(\"  \\n\", \"\\n\"))"
   ]
  },
  {
   "cell_type": "markdown",
   "id": "f22cefa1",
   "metadata": {},
   "source": [
    "#### Image Example"
   ]
  },
  {
   "cell_type": "code",
   "execution_count": 27,
   "id": "9e0de63c",
   "metadata": {},
   "outputs": [],
   "source": [
    "response = client.responses.create(\n",
    "    model=\"gpt-4o\",\n",
    "    input=[\n",
    "        {\"role\": \"user\", \"content\": \"which teams are playing in this image?\"},\n",
    "        {\n",
    "            \"role\": \"user\",\n",
    "            \"content\": [\n",
    "                {\n",
    "                    \"type\": \"input_image\",\n",
    "                    \"image_url\": \"https://upload.wikimedia.org/wikipedia/commons/3/3b/LeBron_James_Layup_%28Cleveland_vs_Brooklyn_2018%29.jpg\",\n",
    "                }\n",
    "            ],\n",
    "        },\n",
    "    ],\n",
    ")"
   ]
  },
  {
   "cell_type": "code",
   "execution_count": 28,
   "id": "9164944c",
   "metadata": {},
   "outputs": [
    {
     "data": {
      "text/plain": [
       "'The teams playing in the image are the Cleveland Cavaliers and the Brooklyn Nets.'"
      ]
     },
     "execution_count": 28,
     "metadata": {},
     "output_type": "execute_result"
    }
   ],
   "source": [
    "response.output_text"
   ]
  },
  {
   "cell_type": "markdown",
   "id": "adde05d8",
   "metadata": {},
   "source": [
    "#### Streaming"
   ]
  },
  {
   "cell_type": "code",
   "execution_count": null,
   "id": "28809ba9",
   "metadata": {},
   "outputs": [],
   "source": [
    "stream = client.responses.create(\n",
    "    model=\"gpt-4o\",\n",
    "    input=\"Write a essay on agents\",\n",
    "    stream=True,\n",
    ")"
   ]
  },
  {
   "cell_type": "code",
   "execution_count": 43,
   "id": "667e4e80",
   "metadata": {},
   "outputs": [],
   "source": [
    "# Store chunks in a list\n",
    "text_chunks = []\n"
   ]
  },
  {
   "cell_type": "code",
   "execution_count": 44,
   "id": "84072604",
   "metadata": {},
   "outputs": [
    {
     "name": "stdout",
     "output_type": "stream",
     "text": [
      "**The Role and Impact of Agents in Modern Society**\n",
      "\n",
      "In today's interconnected world, agents play a pivotal role across various sectors, serving as vital intermediaries and facilitators. From sports and entertainment to real estate and travel, agents have become indispensable due to their expertise, negotiation skills, and industry connections. This essay explores the multifaceted roles agents assume, their importance in different fields, and the challenges they face.\n",
      "\n",
      "Primarily, agents serve as representatives for individuals or organizations, ensuring that their clients' interests are protected and promoted. In the entertainment industry, for instance, talent agents are crucial for actors, musicians, and artists. They negotiate contracts, secure job opportunities, and help manage their clients' public images. This allows artists to focus on their craft while agents handle the business side of things. Similarly, in sports, agents negotiate lucrative contracts and endorsements for athletes, significantly impacting their career trajectories.\n",
      "\n",
      "In the real estate industry, agents help individuals buy, sell, or rent properties. They possess in-depth knowledge of real estate markets and regulations, making the complex process of property transactions smoother and more efficient for their clients. Real estate agents also provide valuable advice on property values and investment opportunities, making them essential for people looking to navigate the housing market.\n",
      "\n",
      "Travel agents, although facing stiff competition from online booking platforms, remain relevant due to their ability to offer customized travel experiences and handle complex itineraries. They provide insights into destinations, secure deals, and offer support in case of travel disruptions, ensuring that their clients enjoy hassle-free vacations.\n",
      "\n",
      "Despite their importance, agents face numerous challenges. The rise of digital technology and direct-to-customer models has threatened traditional agent roles. In many industries, online platforms enable clients to bypass agents altogether, posing a significant challenge to their traditional business models. Additionally, the pressure to keep abreast of rapidly changing markets and regulations requires agents to continually update their skills and knowledge.\n",
      "\n",
      "Ethical considerations are another challenge, as agents must navigate potential conflicts of interest and maintain transparency with their clients. Ensuring honest and fair dealings is crucial to sustaining trust and maintaining professional credibility.\n",
      "\n",
      "In conclusion, agents play a critical role in modern society by facilitating connections and transactions across various fields. While they face challenges from technological advancements and ethical dilemmas, their expertise and ability to adapt to changing landscapes ensure their continued relevance. As industries evolve, agents will need to innovate and redefine their roles to meet the needs of their clients and the demands of a rapidly changing world."
     ]
    }
   ],
   "source": [
    "for event in stream:\n",
    "    if hasattr(event, \"type\") and \"text.delta\" in event.type:\n",
    "        text_chunks.append(event.delta)\n",
    "        print(event.delta, end=\"\", flush=True)"
   ]
  },
  {
   "cell_type": "markdown",
   "id": "8b9f7e1f",
   "metadata": {},
   "source": [
    "## Optional"
   ]
  },
  {
   "cell_type": "markdown",
   "id": "af1710c6",
   "metadata": {},
   "source": [
    "\n",
    "> 📖 More details on the \n",
    "[Model spec](https://model-spec.openai.com/2025-02-12.html),\n",
    "[Dashboard](https://platform.openai.com/logs?api=responses)\n",
    "\n",
    "\n",
    "#### Introducing instructions\n",
    "\n",
    "\n",
    "Inputs can now be a single string or a list of messages.\n",
    "\n",
    "The list of roles can now be:\n",
    "- system\n",
    "- developer\n",
    "- user"
   ]
  },
  {
   "cell_type": "code",
   "execution_count": 45,
   "id": "81cd1103",
   "metadata": {},
   "outputs": [],
   "source": [
    "response = client.responses.create(\n",
    "    model=\"gpt-4o\",\n",
    "    instructions=\"Talk like a pirate.\",\n",
    "    input=\"Are semicolons optional in JavaScript?\",\n",
    ")"
   ]
  },
  {
   "cell_type": "code",
   "execution_count": 46,
   "id": "11584e88",
   "metadata": {},
   "outputs": [
    {
     "data": {
      "text/plain": [
       "\"Arrr, in JavaScript, semicolons be mostly optional due to automatic semicolon insertion (ASI). But beware, matey! It’s good practice to use 'em to avoid any tricky bugs or unexpected behavior. Always be certain where ye leave off yer sentences!\""
      ]
     },
     "execution_count": 46,
     "metadata": {},
     "output_type": "execute_result"
    }
   ],
   "source": [
    "response.output_text"
   ]
  },
  {
   "cell_type": "markdown",
   "id": "613366e5",
   "metadata": {},
   "source": [
    "Which would be similar to:"
   ]
  },
  {
   "cell_type": "code",
   "execution_count": 47,
   "id": "2e457b10",
   "metadata": {},
   "outputs": [],
   "source": [
    "response = client.responses.create(\n",
    "    model=\"gpt-4o\",\n",
    "    input=[\n",
    "        {\"role\": \"developer\", \"content\": \"Talk like a pirate.\"},\n",
    "        {\"role\": \"user\", \"content\": \"Are semicolons optional in JavaScript?\"},\n",
    "    ],\n",
    ")"
   ]
  },
  {
   "cell_type": "code",
   "execution_count": 48,
   "id": "a1602d5c",
   "metadata": {},
   "outputs": [
    {
     "name": "stdout",
     "output_type": "stream",
     "text": [
      "Arrr, ye be right! In JavaScript, semicolons be often optional due to automatic semicolon insertion. But beware, matey, fer it can lead to some tricky bugs if ye aren’t careful with how ye set sail with yer code! Use 'em wisely to avoid walkin' the plank.\n"
     ]
    }
   ],
   "source": [
    "print(response.output_text)"
   ]
  },
  {
   "cell_type": "markdown",
   "id": "a587200e",
   "metadata": {},
   "source": [
    "#### The chain of command (hierarchical instructions)\n",
    "\n",
    "> 📖 More details on the [Chain of command](https://model-spec.openai.com/2025-02-12.html#chain_of_command)"
   ]
  },
  {
   "cell_type": "code",
   "execution_count": 49,
   "id": "5b3764ee",
   "metadata": {},
   "outputs": [],
   "source": [
    "response = client.responses.create(\n",
    "    model=\"gpt-4o\",\n",
    "    input=[\n",
    "        {\"role\": \"system\", \"content\": \"You are a polite assistant.\"},\n",
    "        {\"role\": \"developer\", \"content\": \"Always reply with a smiley emoji at the end.\"},\n",
    "        {\"role\": \"user\", \"content\": \"What's the weather like today?\"},\n",
    "    ],\n",
    ")"
   ]
  },
  {
   "cell_type": "code",
   "execution_count": 50,
   "id": "5289f754",
   "metadata": {},
   "outputs": [
    {
     "name": "stdout",
     "output_type": "stream",
     "text": [
      "I'm unable to provide real-time weather information. You can check a weather app or website for the latest updates. 🙂\n"
     ]
    }
   ],
   "source": [
    "print(response.output_text)"
   ]
  },
  {
   "cell_type": "markdown",
   "id": "e2c8bdec",
   "metadata": {},
   "source": [
    "##### hierarchy matters"
   ]
  },
  {
   "cell_type": "code",
   "execution_count": 51,
   "id": "53537f3b",
   "metadata": {},
   "outputs": [],
   "source": [
    "response = client.responses.create(\n",
    "    model=\"gpt-4o\",\n",
    "    input=[\n",
    "        {\"role\": \"system\", \"content\": \"Talk like a pirate.\"},\n",
    "        {\"role\": \"developer\", \"content\": \"don't talk like a pirate.\"},\n",
    "        {\"role\": \"user\", \"content\": \"Are semicolons optional in JavaScript?\"},\n",
    "    ],\n",
    ")"
   ]
  },
  {
   "cell_type": "code",
   "execution_count": 52,
   "id": "2fe75b5c",
   "metadata": {},
   "outputs": [
    {
     "name": "stdout",
     "output_type": "stream",
     "text": [
      "Ahoy! Indeed, in JavaScript, semicolons be generally optional due to a feature called \"automatic semicolon insertion\" (ASI). Yet, it's wise to use 'em to avoid unexpected behavior, especially in complex code or when combining statements on a single line. Beware of subtle bugs without 'em! Keep yer code shipshape!\n"
     ]
    }
   ],
   "source": [
    "print(response.output_text)  # talks like a pirate"
   ]
  },
  {
   "cell_type": "code",
   "execution_count": 53,
   "id": "93b6f59b",
   "metadata": {},
   "outputs": [],
   "source": [
    "response = client.responses.create(\n",
    "    model=\"gpt-4o\",\n",
    "    input=[\n",
    "        {\"role\": \"system\", \"content\": \"Don't talk like a pirate.\"},\n",
    "        {\"role\": \"developer\", \"content\": \"Talk like a pirate.\"},\n",
    "        {\"role\": \"user\", \"content\": \"Are semicolons optional in JavaScript?\"},\n",
    "    ],\n",
    ")"
   ]
  },
  {
   "cell_type": "code",
   "execution_count": 54,
   "id": "9f6ef429",
   "metadata": {},
   "outputs": [
    {
     "name": "stdout",
     "output_type": "stream",
     "text": [
      "Semicolons in JavaScript are technically optional because of a feature called Automatic Semicolon Insertion (ASI). This means the JavaScript engine can automatically insert semicolons where it thinks they are needed. However, it's generally best practice to use semicolons explicitly to avoid potential pitfalls and misunderstandings in your code. Leaving them out can sometimes lead to unexpected behaviors or errors, especially in more complex statements.\n"
     ]
    }
   ],
   "source": [
    "print(response.output_text)  # doesn't talk like a pirate"
   ]
  }
 ],
 "metadata": {
  "kernelspec": {
   "display_name": ".venv",
   "language": "python",
   "name": "python3"
  },
  "language_info": {
   "codemirror_mode": {
    "name": "ipython",
    "version": 3
   },
   "file_extension": ".py",
   "mimetype": "text/x-python",
   "name": "python",
   "nbconvert_exporter": "python",
   "pygments_lexer": "ipython3",
   "version": "3.11.0"
  }
 },
 "nbformat": 4,
 "nbformat_minor": 5
}
